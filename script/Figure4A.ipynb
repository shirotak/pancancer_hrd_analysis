{
 "cells": [
  {
   "cell_type": "code",
   "execution_count": 1,
   "metadata": {},
   "outputs": [],
   "source": [
    "import numpy as np\n",
    "import pandas as pd\n",
    "import matplotlib.pyplot as plt\n",
    "from matplotlib import patches\n",
    "from scipy import stats\n",
    "import seaborn as sns\n",
    "%matplotlib inline"
   ]
  },
  {
   "cell_type": "code",
   "execution_count": 2,
   "metadata": {},
   "outputs": [],
   "source": [
    "plt.style.use('seaborn-white')"
   ]
  },
  {
   "cell_type": "code",
   "execution_count": 3,
   "metadata": {},
   "outputs": [],
   "source": [
    "SMALL_SIZE = 7\n",
    "MEDIUM_SIZE = 8\n",
    "LARGE_SIZE = 10\n",
    "BIGGER_SIZE = 12\n",
    "plt.rc('font', size=LARGE_SIZE)     \n",
    "plt.rc('axes', titlesize=MEDIUM_SIZE)    \n",
    "plt.rc('axes', labelsize=MEDIUM_SIZE)    \n",
    "plt.rc('axes', linewidth=0.5) \n",
    "plt.rc('xtick', labelsize=SMALL_SIZE)    \n",
    "plt.rc('ytick', labelsize=SMALL_SIZE) \n",
    "plt.rc('legend', fontsize=MEDIUM_SIZE)    \n",
    "plt.rc('figure', titlesize=BIGGER_SIZE, dpi=300, figsize=(5,4) )  "
   ]
  },
  {
   "cell_type": "code",
   "execution_count": 4,
   "metadata": {},
   "outputs": [],
   "source": [
    "path_to_data=\"../data/\"\n",
    "path_to_results=\"../results/\""
   ]
  },
  {
   "cell_type": "code",
   "execution_count": 5,
   "metadata": {},
   "outputs": [
    {
     "data": {
      "text/html": [
       "<div>\n",
       "<style scoped>\n",
       "    .dataframe tbody tr th:only-of-type {\n",
       "        vertical-align: middle;\n",
       "    }\n",
       "\n",
       "    .dataframe tbody tr th {\n",
       "        vertical-align: top;\n",
       "    }\n",
       "\n",
       "    .dataframe thead th {\n",
       "        text-align: right;\n",
       "    }\n",
       "</style>\n",
       "<table border=\"1\" class=\"dataframe\">\n",
       "  <thead>\n",
       "    <tr style=\"text-align: right;\">\n",
       "      <th></th>\n",
       "      <th>CancerType</th>\n",
       "      <th>Gender_sTP53m</th>\n",
       "      <th>GS_cases</th>\n",
       "      <th>HA_cases</th>\n",
       "      <th>GS_HA_anno</th>\n",
       "      <th>Cancer_order</th>\n",
       "      <th>BRCA1_alteration</th>\n",
       "      <th>BRCA2_alteration</th>\n",
       "      <th>ATM_alteration</th>\n",
       "      <th>RAD51B_alteration</th>\n",
       "      <th>...</th>\n",
       "      <th>RAD51D_alteration</th>\n",
       "      <th>RAD50_alteration</th>\n",
       "      <th>BLM_alteration</th>\n",
       "      <th>CHEK1_alteration</th>\n",
       "      <th>FANCL_alteration</th>\n",
       "      <th>RAD51_alteration</th>\n",
       "      <th>FANCI_alteration</th>\n",
       "      <th>FANCF_alteration</th>\n",
       "      <th>NBN_alteration</th>\n",
       "      <th>RAD52_alteration</th>\n",
       "    </tr>\n",
       "  </thead>\n",
       "  <tbody>\n",
       "    <tr>\n",
       "      <th>P00004</th>\n",
       "      <td>OV</td>\n",
       "      <td>Female_TP53m</td>\n",
       "      <td>1.0</td>\n",
       "      <td>1.0</td>\n",
       "      <td>GS_HA</td>\n",
       "      <td>0</td>\n",
       "      <td>0</td>\n",
       "      <td>4</td>\n",
       "      <td>4</td>\n",
       "      <td>4</td>\n",
       "      <td>...</td>\n",
       "      <td>4</td>\n",
       "      <td>4</td>\n",
       "      <td>4</td>\n",
       "      <td>4</td>\n",
       "      <td>4</td>\n",
       "      <td>4</td>\n",
       "      <td>4</td>\n",
       "      <td>4</td>\n",
       "      <td>4</td>\n",
       "      <td>4</td>\n",
       "    </tr>\n",
       "    <tr>\n",
       "      <th>P00006</th>\n",
       "      <td>SARC</td>\n",
       "      <td>Female_TP53wt</td>\n",
       "      <td>1.0</td>\n",
       "      <td>0.0</td>\n",
       "      <td>GS</td>\n",
       "      <td>4</td>\n",
       "      <td>4</td>\n",
       "      <td>4</td>\n",
       "      <td>4</td>\n",
       "      <td>4</td>\n",
       "      <td>...</td>\n",
       "      <td>4</td>\n",
       "      <td>4</td>\n",
       "      <td>4</td>\n",
       "      <td>4</td>\n",
       "      <td>4</td>\n",
       "      <td>4</td>\n",
       "      <td>4</td>\n",
       "      <td>4</td>\n",
       "      <td>4</td>\n",
       "      <td>4</td>\n",
       "    </tr>\n",
       "    <tr>\n",
       "      <th>P00010</th>\n",
       "      <td>UCEC</td>\n",
       "      <td>Female_TP53wt</td>\n",
       "      <td>1.0</td>\n",
       "      <td>1.0</td>\n",
       "      <td>GS_HA</td>\n",
       "      <td>3</td>\n",
       "      <td>4</td>\n",
       "      <td>4</td>\n",
       "      <td>4</td>\n",
       "      <td>4</td>\n",
       "      <td>...</td>\n",
       "      <td>4</td>\n",
       "      <td>4</td>\n",
       "      <td>4</td>\n",
       "      <td>4</td>\n",
       "      <td>4</td>\n",
       "      <td>4</td>\n",
       "      <td>4</td>\n",
       "      <td>4</td>\n",
       "      <td>4</td>\n",
       "      <td>4</td>\n",
       "    </tr>\n",
       "    <tr>\n",
       "      <th>P00029</th>\n",
       "      <td>TGCT</td>\n",
       "      <td>Male_TP53wt</td>\n",
       "      <td>0.0</td>\n",
       "      <td>1.0</td>\n",
       "      <td>HA</td>\n",
       "      <td>11</td>\n",
       "      <td>2</td>\n",
       "      <td>4</td>\n",
       "      <td>4</td>\n",
       "      <td>4</td>\n",
       "      <td>...</td>\n",
       "      <td>4</td>\n",
       "      <td>4</td>\n",
       "      <td>4</td>\n",
       "      <td>4</td>\n",
       "      <td>4</td>\n",
       "      <td>4</td>\n",
       "      <td>4</td>\n",
       "      <td>4</td>\n",
       "      <td>4</td>\n",
       "      <td>4</td>\n",
       "    </tr>\n",
       "    <tr>\n",
       "      <th>P00036</th>\n",
       "      <td>STES</td>\n",
       "      <td>Male_TP53wt</td>\n",
       "      <td>1.0</td>\n",
       "      <td>0.0</td>\n",
       "      <td>GS</td>\n",
       "      <td>2</td>\n",
       "      <td>4</td>\n",
       "      <td>4</td>\n",
       "      <td>4</td>\n",
       "      <td>4</td>\n",
       "      <td>...</td>\n",
       "      <td>4</td>\n",
       "      <td>4</td>\n",
       "      <td>4</td>\n",
       "      <td>4</td>\n",
       "      <td>4</td>\n",
       "      <td>4</td>\n",
       "      <td>4</td>\n",
       "      <td>4</td>\n",
       "      <td>4</td>\n",
       "      <td>4</td>\n",
       "    </tr>\n",
       "  </tbody>\n",
       "</table>\n",
       "<p>5 rows × 32 columns</p>\n",
       "</div>"
      ],
      "text/plain": [
       "       CancerType  Gender_sTP53m  GS_cases  HA_cases GS_HA_anno Cancer_order  \\\n",
       "P00004         OV   Female_TP53m       1.0       1.0      GS_HA            0   \n",
       "P00006       SARC  Female_TP53wt       1.0       0.0         GS            4   \n",
       "P00010       UCEC  Female_TP53wt       1.0       1.0      GS_HA            3   \n",
       "P00029       TGCT    Male_TP53wt       0.0       1.0         HA           11   \n",
       "P00036       STES    Male_TP53wt       1.0       0.0         GS            2   \n",
       "\n",
       "        BRCA1_alteration  BRCA2_alteration  ATM_alteration  RAD51B_alteration  \\\n",
       "P00004                 0                 4               4                  4   \n",
       "P00006                 4                 4               4                  4   \n",
       "P00010                 4                 4               4                  4   \n",
       "P00029                 2                 4               4                  4   \n",
       "P00036                 4                 4               4                  4   \n",
       "\n",
       "        ...  RAD51D_alteration  RAD50_alteration  BLM_alteration  \\\n",
       "P00004  ...                  4                 4               4   \n",
       "P00006  ...                  4                 4               4   \n",
       "P00010  ...                  4                 4               4   \n",
       "P00029  ...                  4                 4               4   \n",
       "P00036  ...                  4                 4               4   \n",
       "\n",
       "        CHEK1_alteration  FANCL_alteration  RAD51_alteration  \\\n",
       "P00004                 4                 4                 4   \n",
       "P00006                 4                 4                 4   \n",
       "P00010                 4                 4                 4   \n",
       "P00029                 4                 4                 4   \n",
       "P00036                 4                 4                 4   \n",
       "\n",
       "        FANCI_alteration  FANCF_alteration  NBN_alteration  RAD52_alteration  \n",
       "P00004                 4                 4               4                 4  \n",
       "P00006                 4                 4               4                 4  \n",
       "P00010                 4                 4               4                 4  \n",
       "P00029                 4                 4               4                 4  \n",
       "P00036                 4                 4               4                 4  \n",
       "\n",
       "[5 rows x 32 columns]"
      ]
     },
     "execution_count": 5,
     "metadata": {},
     "output_type": "execute_result"
    }
   ],
   "source": [
    "plt_df=pd.read_csv(path_to_data+\"Data_for_Figure4A.tsv\",sep=\"\\t\",index_col=0)\n",
    "plt_df.head()"
   ]
  },
  {
   "cell_type": "code",
   "execution_count": 6,
   "metadata": {},
   "outputs": [
    {
     "data": {
      "text/plain": [
       "{'OV': 0,\n",
       " 'BRC': 1,\n",
       " 'STES': 2,\n",
       " 'LUSC': 3,\n",
       " 'PRAD': 4,\n",
       " 'BLCA': 5,\n",
       " 'SARC': 6,\n",
       " 'HNSC': 7,\n",
       " 'TGCT': 8,\n",
       " 'LIHC': 9,\n",
       " 'LUAD': 10,\n",
       " 'SKCM': 11,\n",
       " 'UCEC': 12,\n",
       " 'MESO': 13,\n",
       " 'CRC': 14,\n",
       " 'CESC': 15,\n",
       " 'KRC': 16,\n",
       " 'ACC': 17,\n",
       " 'GBM': 18,\n",
       " 'PAAD': 19,\n",
       " 'UCS': 20,\n",
       " 'CHOL': 21,\n",
       " 'LGG': 22,\n",
       " 'PCPG': 23,\n",
       " 'THCA': 24}"
      ]
     },
     "execution_count": 6,
     "metadata": {},
     "output_type": "execute_result"
    }
   ],
   "source": [
    "from collections import Counter\n",
    "cancer_count_sort=[x[0]  for x in Counter(plt_df[\"CancerType\"]).most_common() ]\n",
    "dict_cancer_order={ cancer:i for i,cancer in enumerate( cancer_count_sort)}\n",
    "dict_cancer_order"
   ]
  },
  {
   "cell_type": "code",
   "execution_count": 7,
   "metadata": {},
   "outputs": [],
   "source": [
    "plt_df[\"Cancer_order\"]=[dict_cancer_order[ cancer] for cancer in plt_df[\"CancerType\"] ]"
   ]
  },
  {
   "cell_type": "code",
   "execution_count": 8,
   "metadata": {},
   "outputs": [],
   "source": [
    "plt_df_simple=plt_df.loc[:,plt_df.columns.str.contains(\"_alteration$\")]"
   ]
  },
  {
   "cell_type": "code",
   "execution_count": 9,
   "metadata": {},
   "outputs": [
    {
     "data": {
      "text/plain": [
       "Index(['BRCA1_alteration', 'BRCA2_alteration', 'ATM_alteration',\n",
       "       'RAD51B_alteration', 'CDK12_alteration', 'CHEK2_alteration',\n",
       "       'BRIP1_alteration', 'PALB2_alteration', 'FANCD2_alteration',\n",
       "       'FANCC_alteration', 'RAD51C_alteration', 'ATR_alteration',\n",
       "       'BARD1_alteration', 'FANCA_alteration', 'FANCM_alteration',\n",
       "       'MRE11A_alteration', 'RAD51D_alteration', 'RAD50_alteration',\n",
       "       'BLM_alteration', 'NBN_alteration', 'CHEK1_alteration',\n",
       "       'FANCL_alteration', 'RAD51_alteration', 'FANCI_alteration',\n",
       "       'FANCF_alteration', 'RAD52_alteration'],\n",
       "      dtype='object')"
      ]
     },
     "execution_count": 9,
     "metadata": {},
     "output_type": "execute_result"
    }
   ],
   "source": [
    "col_order=np.sum( plt_df_simple!=4).sort_values(ascending=False).index\n",
    "col_order"
   ]
  },
  {
   "cell_type": "code",
   "execution_count": 10,
   "metadata": {},
   "outputs": [],
   "source": [
    "plt_df=plt_df.sort_values(list(col_order)+[\"Cancer_order\"]+[\"GS_cases\"],\n",
    "                               ascending=[True]*len(col_order)+[True,False])"
   ]
  },
  {
   "cell_type": "markdown",
   "metadata": {},
   "source": [
    "\n",
    "hrd_cases=plt_df[(plt_df[\"GS_cases\"]==1) | (plt_df[\"HA_cases\"]==1)]\n",
    "cancer_names=list(plt_df[\"CancerType\"].unique())\n",
    "cancer_names_order=[ x[0] for x in  Counter(hrd_cases[\"CancerType\"]).most_common() ]\n",
    "dict_cancer_names_order={v:k for k,v in enumerate(cancer_names_order)}\n",
    "dict_cancer_names_order"
   ]
  },
  {
   "cell_type": "code",
   "execution_count": 11,
   "metadata": {},
   "outputs": [],
   "source": [
    "groups=['Female_TP53m', 'Male_TP53m', 'Female_TP53wt', 'Male_TP53wt']\n",
    "labels=['Female TP53m', 'Male TP53m', 'Female TP53wt', 'Male TP53wt']"
   ]
  },
  {
   "cell_type": "code",
   "execution_count": 12,
   "metadata": {},
   "outputs": [
    {
     "data": {
      "text/plain": [
       "{'OV': [187, 0, 18, 0],\n",
       " 'BRC': [99, 0, 90, 6],\n",
       " 'STES': [3, 56, 9, 40],\n",
       " 'LUSC': [5, 47, 2, 17],\n",
       " 'PRAD': [0, 1, 0, 60],\n",
       " 'BLCA': [4, 20, 7, 29],\n",
       " 'SARC': [8, 6, 19, 21],\n",
       " 'HNSC': [1, 28, 0, 20],\n",
       " 'TGCT': [0, 0, 0, 47],\n",
       " 'LIHC': [0, 8, 11, 26],\n",
       " 'LUAD': [2, 2, 14, 19],\n",
       " 'SKCM': [1, 4, 10, 20],\n",
       " 'UCEC': [20, 0, 10, 0],\n",
       " 'MESO': [0, 0, 4, 20],\n",
       " 'CRC': [1, 8, 4, 3],\n",
       " 'CESC': [2, 0, 13, 0],\n",
       " 'KRC': [0, 0, 4, 10],\n",
       " 'ACC': [1, 0, 8, 3],\n",
       " 'GBM': [1, 3, 0, 5],\n",
       " 'PAAD': [0, 2, 1, 6],\n",
       " 'UCS': [5, 0, 1, 0],\n",
       " 'CHOL': [0, 0, 3, 3],\n",
       " 'LGG': [1, 2, 0, 1],\n",
       " 'PCPG': [0, 0, 3, 1],\n",
       " 'THCA': [0, 0, 2, 0]}"
      ]
     },
     "execution_count": 12,
     "metadata": {},
     "output_type": "execute_result"
    }
   ],
   "source": [
    "dict_cancer_counts_4groups={}\n",
    "\n",
    "for cancer in cancer_count_sort:\n",
    "    counts=[]\n",
    "    tmp_df=plt_df[plt_df[\"CancerType\"]==cancer]\n",
    "    for group in groups:\n",
    "        tmp_df2=tmp_df[ tmp_df[\"Gender_sTP53m\"]==group]\n",
    "        add=  len(tmp_df2) \n",
    "        counts.append(add)\n",
    "    dict_cancer_counts_4groups[cancer]=counts\n",
    "    \n",
    "dict_cancer_counts_4groups"
   ]
  },
  {
   "cell_type": "code",
   "execution_count": 13,
   "metadata": {},
   "outputs": [],
   "source": [
    "dict_number_color={0:\"red\",1:\"blue\",2:\"green\",3:\"y\",4:\"whitesmoke\"}"
   ]
  },
  {
   "cell_type": "code",
   "execution_count": 14,
   "metadata": {},
   "outputs": [
    {
     "name": "stdout",
     "output_type": "stream",
     "text": [
      "BRCA1\n",
      "BRCA2\n",
      "ATM\n",
      "RAD51B\n",
      "CDK12\n",
      "CHEK2\n",
      "BRIP1\n",
      "PALB2\n",
      "FANCD2\n",
      "FANCC\n",
      "RAD51C\n",
      "ATR\n",
      "BARD1\n",
      "FANCA\n",
      "FANCM\n",
      "MRE11A\n",
      "RAD51D\n",
      "RAD50\n",
      "BLM\n",
      "NBN\n",
      "CHEK1\n",
      "FANCL\n",
      "RAD51\n",
      "FANCI\n",
      "FANCF\n",
      "RAD52\n"
     ]
    },
    {
     "data": {
      "image/png": "[encoded data removed]",
      "text/plain": [
       "<Figure size 1636.8x1248 with 26 Axes>"
      ]
     },
     "metadata": {},
     "output_type": "display_data"
    }
   ],
   "source": [
    "from matplotlib import patches\n",
    "\n",
    "tmp_df=plt_df[plt_df[\"Gender_sTP53m\"]==groups[0]]\n",
    "N=len( tmp_df.index )\n",
    "M=len( col_order )\n",
    "fig = plt.figure(figsize=(0.016*N,0.16*M))\n",
    "for i,col in enumerate(col_order ):\n",
    "    ax = fig.add_subplot(M,1,i+1)\n",
    "    ax.set_xlabel('')\n",
    "    ax.set_ylabel('')\n",
    "    for i,number in enumerate( tmp_df[col] ):\n",
    "        r=patches.Rectangle(xy=(i/N,0),width=1/N,height=1,color=dict_number_color[number])\n",
    "        ax.add_patch(r)\n",
    "    ax.set_axis_off()\n",
    "    \n",
    "    print(col.replace(\"_alteration\",\"\"))\n",
    "\n",
    "plt.savefig(path_to_results+\"Figure4A_1_1.png\",bbox_incehs=\"tight\")"
   ]
  },
  {
   "cell_type": "code",
   "execution_count": 15,
   "metadata": {},
   "outputs": [],
   "source": [
    "dict_cancer_color={\n",
    "'ACC': (0.807843137254902, 0.42745098039215684, 0.7411764705882353),\n",
    " 'BLCA': (0.3215686274509804, 0.32941176470588235, 0.6392156862745098),\n",
    " 'BRC': (0.19215686274509805, 0.5098039215686274, 0.7411764705882353),\n",
    " 'CESC': (0.4196078431372549, 0.43137254901960786, 0.8117647058823529),\n",
    " 'CHOL': (0.2235294117647059, 0.23137254901960785, 0.4745098039215686),\n",
    " 'CRC': (0.38823529411764707, 0.4745098039215686, 0.2235294117647059),\n",
    " 'ESCA': (0.9019607843137255, 0.3333333333333333, 0.050980392156862744),\n",
    " 'GBM': (0.6313725490196078, 0.8509803921568627, 0.6078431372549019),\n",
    " 'HNSC': (0.7803921568627451, 0.9137254901960784, 0.7529411764705882),\n",
    " 'KRC': (1.0, 1.0, 0.6),\n",
    " 'LGG': (0.8705882352941177, 0.6196078431372549, 0.8392156862745098),\n",
    " 'LIHC': (0.5176470588235295, 0.23529411764705882, 0.2235294117647059),\n",
    " 'LUAD': (0.6784313725490196, 0.28627450980392155, 0.2901960784313726),\n",
    " 'LUSC': (0.9411764705882353, 0.00784313725490196, 0.4980392156862745),\n",
    " 'MESO': (0.9058823529411765, 0.5882352941176471, 0.611764705882353),\n",
    " 'OV': (0.8392156862745098, 0.15294117647058825, 0.1568627450980392),\n",
    " 'PAAD': (0.4823529411764706, 0.2549019607843137, 0.45098039215686275),\n",
    " 'PCPG': (0.6470588235294118, 0.3176470588235294, 0.5803921568627451),\n",
    " 'PRAD': (0.611764705882353, 0.6196078431372549, 0.8705882352941177),\n",
    " 'SARC': (0.7411764705882353, 0.6196078431372549, 0.2235294117647059),\n",
    " 'SKCM': (0.6196078431372549, 0.792156862745098, 0.8823529411764706),\n",
    " 'STES': (0.8901960784313725, 0.4666666666666667, 0.7607843137254902),\n",
    " 'TGCT': (0.19215686274509805, 0.6392156862745098, 0.32941176470588235),\n",
    " 'THCA': (0.7764705882352941, 0.8588235294117647, 0.9372549019607843),\n",
    " 'UCEC': (0.9921568627450981, 0.5529411764705883, 0.23529411764705882),\n",
    " 'UCS': (0.4549019607843137, 0.7686274509803922, 0.4627450980392157),\n",
    " 'UVM': (0.9921568627450981, 0.6823529411764706, 0.4196078431372549),\n",
    "'Others': 'grey'}"
   ]
  },
  {
   "cell_type": "code",
   "execution_count": 16,
   "metadata": {},
   "outputs": [
    {
     "name": "stdout",
     "output_type": "stream",
     "text": [
      "GS_cases\n",
      "CancerType\n"
     ]
    },
    {
     "data": {
      "image/png": "[encoded data removed]",
      "text/plain": [
       "<Figure size 1636.8x96 with 2 Axes>"
      ]
     },
     "metadata": {},
     "output_type": "display_data"
    }
   ],
   "source": [
    "col_extra= [\"GS_cases\",\"CancerType\"] \n",
    "N=len( tmp_df.index )\n",
    "M=len(col_extra)\n",
    "fig = plt.figure(figsize=(N*0.016,0.16*M))\n",
    "for i,col in enumerate(col_extra):\n",
    "    ax = fig.add_subplot(M,1,i+1)\n",
    "    ax.set_xlabel('')\n",
    "    ax.set_ylabel('')\n",
    "    if col==\"CancerType\":\n",
    "        for i,cancer in enumerate( tmp_df[col] ):\n",
    "            r=patches.Rectangle(xy=(i/N,0),width=1/N,height=1,color=dict_cancer_color[cancer] ) \n",
    "            ax.add_patch(r)\n",
    "    elif col==\"GS_cases\":\n",
    "        for i,number in enumerate( tmp_df[col] ):\n",
    "            if number==1:\n",
    "                r=patches.Rectangle(xy=(i/N,0),width=1/N,height=1,color=\"k\") \n",
    "                ax.add_patch(r)\n",
    "            else:\n",
    "                r=patches.Rectangle(xy=(i/N,0),width=1/N,height=1,color=\"whitesmoke\") \n",
    "                ax.add_patch(r)\n",
    "    ax.set_axis_off()\n",
    "    print(col)\n",
    "\n",
    "plt.savefig(path_to_results+\"Figure4A_1_2.png\",bbox_incehs=\"tight\")"
   ]
  },
  {
   "cell_type": "code",
   "execution_count": 17,
   "metadata": {},
   "outputs": [
    {
     "data": {
      "image/png": "[encoded data removed]",
      "text/plain": [
       "<Figure size 897.6x1248 with 26 Axes>"
      ]
     },
     "metadata": {},
     "output_type": "display_data"
    }
   ],
   "source": [
    "tmp_df=plt_df[plt_df[\"Gender_sTP53m\"]==groups[1]]\n",
    "N=len( tmp_df.index )\n",
    "M=len( col_order )\n",
    "fig = plt.figure(figsize=(0.016*N,0.16*M))\n",
    "for i,col in enumerate(col_order ):\n",
    "    ax = fig.add_subplot(M,1,i+1)\n",
    "    ax.set_xlabel('')\n",
    "    ax.set_ylabel('')\n",
    "    for i,number in enumerate( tmp_df[col] ):\n",
    "        r=patches.Rectangle(xy=(i/N,0),width=1/N,height=1,color=dict_number_color[number])\n",
    "        ax.add_patch(r)\n",
    "    ax.set_axis_off()\n",
    "    #print(col.replace(\"_alteration\",\"\"))\n",
    "\n",
    "plt.savefig(path_to_results+\"Figure4A_2_1.png\",bbox_incehs=\"tight\")"
   ]
  },
  {
   "cell_type": "code",
   "execution_count": 18,
   "metadata": {},
   "outputs": [
    {
     "data": {
      "image/png": "[encoded data removed]",
      "text/plain": [
       "<Figure size 897.6x96 with 2 Axes>"
      ]
     },
     "metadata": {},
     "output_type": "display_data"
    }
   ],
   "source": [
    "col_extra= [\"GS_cases\",\"CancerType\"] \n",
    "N=len( tmp_df.index )\n",
    "M=len(col_extra)\n",
    "fig = plt.figure(figsize=(N*0.016,0.16*M))\n",
    "for i,col in enumerate(col_extra):\n",
    "    ax = fig.add_subplot(M,1,i+1)\n",
    "    ax.set_xlabel('')\n",
    "    ax.set_ylabel('')\n",
    "    if col==\"CancerType\":\n",
    "        for i,cancer in enumerate( tmp_df[col] ):\n",
    "            r=patches.Rectangle(xy=(i/N,0),width=1/N,height=1,color=dict_cancer_color[cancer] ) \n",
    "            ax.add_patch(r)\n",
    "    elif col==\"GS_cases\":\n",
    "        for i,number in enumerate( tmp_df[col] ):\n",
    "            if number==1:\n",
    "                r=patches.Rectangle(xy=(i/N,0),width=1/N,height=1,color=\"k\") \n",
    "                ax.add_patch(r)\n",
    "            else:\n",
    "                r=patches.Rectangle(xy=(i/N,0),width=1/N,height=1,color=\"whitesmoke\") \n",
    "                ax.add_patch(r)\n",
    "    ax.set_axis_off()\n",
    "\n",
    "plt.savefig(path_to_results+\"Figure4A_2_2.png\",bbox_incehs=\"tight\")"
   ]
  },
  {
   "cell_type": "code",
   "execution_count": 19,
   "metadata": {},
   "outputs": [
    {
     "data": {
      "image/png": "[encoded data removed]",
      "text/plain": [
       "<Figure size 1118.4x1248 with 26 Axes>"
      ]
     },
     "metadata": {},
     "output_type": "display_data"
    }
   ],
   "source": [
    "tmp_df=plt_df[plt_df[\"Gender_sTP53m\"]==groups[2]]\n",
    "N=len( tmp_df.index )\n",
    "M=len( col_order )\n",
    "fig = plt.figure(figsize=(0.016*N,0.16*M))\n",
    "for i,col in enumerate(col_order ):\n",
    "    ax = fig.add_subplot(M,1,i+1)\n",
    "    ax.set_xlabel('')\n",
    "    ax.set_ylabel('')\n",
    "    for i,number in enumerate( tmp_df[col] ):\n",
    "        r=patches.Rectangle(xy=(i/N,0),width=1/N,height=1,color=dict_number_color[number])\n",
    "        ax.add_patch(r)\n",
    "    ax.set_axis_off()\n",
    "    #print(col.replace(\"_alteration\",\"\"))\n",
    "\n",
    "plt.savefig(path_to_results+\"Figure4A_3_1.png\",bbox_incehs=\"tight\")"
   ]
  },
  {
   "cell_type": "code",
   "execution_count": 20,
   "metadata": {},
   "outputs": [
    {
     "data": {
      "image/png": "[encoded data removed]",
      "text/plain": [
       "<Figure size 1118.4x96 with 2 Axes>"
      ]
     },
     "metadata": {},
     "output_type": "display_data"
    }
   ],
   "source": [
    "col_extra= [\"GS_cases\",\"CancerType\"] \n",
    "N=len( tmp_df.index )\n",
    "M=len(col_extra)\n",
    "fig = plt.figure(figsize=(N*0.016,0.16*M))\n",
    "for i,col in enumerate(col_extra):\n",
    "    ax = fig.add_subplot(M,1,i+1)\n",
    "    ax.set_xlabel('')\n",
    "    ax.set_ylabel('')\n",
    "    if col==\"CancerType\":\n",
    "        for i,cancer in enumerate( tmp_df[col] ):\n",
    "            r=patches.Rectangle(xy=(i/N,0),width=1/N,height=1,color=dict_cancer_color[cancer] ) \n",
    "            ax.add_patch(r)\n",
    "    elif col==\"GS_cases\":\n",
    "        for i,number in enumerate( tmp_df[col] ):\n",
    "            if number==1:\n",
    "                r=patches.Rectangle(xy=(i/N,0),width=1/N,height=1,color=\"k\") \n",
    "                ax.add_patch(r)\n",
    "            else:\n",
    "                r=patches.Rectangle(xy=(i/N,0),width=1/N,height=1,color=\"whitesmoke\") \n",
    "                ax.add_patch(r)\n",
    "    ax.set_axis_off()\n",
    "\n",
    "plt.savefig(path_to_results+\"Figure4A_3_2.png\",bbox_incehs=\"tight\")"
   ]
  },
  {
   "cell_type": "code",
   "execution_count": 21,
   "metadata": {},
   "outputs": [
    {
     "data": {
      "image/png": "[encoded data removed]",
      "text/plain": [
       "<Figure size 1713.6x1248 with 26 Axes>"
      ]
     },
     "metadata": {},
     "output_type": "display_data"
    }
   ],
   "source": [
    "tmp_df=plt_df[plt_df[\"Gender_sTP53m\"]==groups[3]]\n",
    "N=len( tmp_df.index )\n",
    "M=len( col_order )\n",
    "fig = plt.figure(figsize=(0.016*N,0.16*M))\n",
    "for i,col in enumerate(col_order ):\n",
    "    ax = fig.add_subplot(M,1,i+1)\n",
    "    ax.set_xlabel('')\n",
    "    ax.set_ylabel('')\n",
    "    for i,number in enumerate( tmp_df[col] ):\n",
    "        r=patches.Rectangle(xy=(i/N,0),width=1/N,height=1,color=dict_number_color[number])\n",
    "        ax.add_patch(r)\n",
    "    ax.set_axis_off()\n",
    "    #print(col.replace(\"_alteration\",\"\"))\n",
    "\n",
    "plt.savefig(path_to_results+\"Figure4A_4_1.png\",bbox_incehs=\"tight\")"
   ]
  },
  {
   "cell_type": "code",
   "execution_count": 22,
   "metadata": {},
   "outputs": [
    {
     "data": {
      "image/png": "[encoded data removed]",
      "text/plain": [
       "<Figure size 1713.6x96 with 2 Axes>"
      ]
     },
     "metadata": {},
     "output_type": "display_data"
    }
   ],
   "source": [
    "col_extra= [\"GS_cases\",\"CancerType\"] \n",
    "N=len( tmp_df.index )\n",
    "M=len(col_extra)\n",
    "fig = plt.figure(figsize=(N*0.016,0.16*M))\n",
    "for i,col in enumerate(col_extra):\n",
    "    ax = fig.add_subplot(M,1,i+1)\n",
    "    ax.set_xlabel('')\n",
    "    ax.set_ylabel('')\n",
    "    if col==\"CancerType\":\n",
    "        for i,cancer in enumerate( tmp_df[col] ):\n",
    "            r=patches.Rectangle(xy=(i/N,0),width=1/N,height=1,color=dict_cancer_color[cancer] ) \n",
    "            ax.add_patch(r)\n",
    "    elif col==\"GS_cases\":\n",
    "        for i,number in enumerate( tmp_df[col] ):\n",
    "            if number==1:\n",
    "                r=patches.Rectangle(xy=(i/N,0),width=1/N,height=1,color=\"k\") \n",
    "                ax.add_patch(r)\n",
    "            else:\n",
    "                r=patches.Rectangle(xy=(i/N,0),width=1/N,height=1,color=\"whitesmoke\") \n",
    "                ax.add_patch(r)\n",
    "    ax.set_axis_off()\n",
    "\n",
    "plt.savefig(path_to_results+\"Figure4A_4_2.png\",bbox_incehs=\"tight\")"
   ]
  },
  {
   "cell_type": "code",
   "execution_count": 23,
   "metadata": {},
   "outputs": [
    {
     "data": {
      "image/png": "[encoded data removed]",
      "text/plain": [
       "<Figure size 300x1500 with 1 Axes>"
      ]
     },
     "metadata": {},
     "output_type": "display_data"
    }
   ],
   "source": [
    "from matplotlib.patches import Patch\n",
    "\n",
    "labels=cancer_count_sort\n",
    "colors=[dict_cancer_color[cancer] for cancer in labels]\n",
    "n_cancer=len(labels)\n",
    "custom_legends =[  Patch(facecolor=colors[i],edgecolor=colors[i],\n",
    "   \t\t\tlabel=labels[i]   ) for i in range(n_cancer) ]\n",
    "\n",
    "fig = plt.figure(figsize=(1,5))\n",
    "ax = fig.add_subplot(111)\n",
    "ax.legend(handles=custom_legends,fontsize=MEDIUM_SIZE,ncol=1,handlelength=0.7)\n",
    "plt.gca().set_axis_off()\n",
    "plt.savefig(path_to_results+\"Figure4A_5.png\",bbox_incehs=\"tight\")"
   ]
  },
  {
   "cell_type": "code",
   "execution_count": 24,
   "metadata": {},
   "outputs": [
    {
     "name": "stdout",
     "output_type": "stream",
     "text": [
      "OV (187,0,18,0)\n",
      "BRC (99,0,90,6)\n",
      "STES (3,56,9,40)\n",
      "LUSC (5,47,2,17)\n",
      "PRAD (0,1,0,60)\n",
      "BLCA (4,20,7,29)\n",
      "SARC (8,6,19,21)\n",
      "HNSC (1,28,0,20)\n",
      "TGCT (0,0,0,47)\n",
      "LIHC (0,8,11,26)\n",
      "LUAD (2,2,14,19)\n",
      "SKCM (1,4,10,20)\n",
      "UCEC (20,0,10,0)\n",
      "MESO (0,0,4,20)\n",
      "CRC (1,8,4,3)\n",
      "CESC (2,0,13,0)\n",
      "KRC (0,0,4,10)\n",
      "ACC (1,0,8,3)\n",
      "GBM (1,3,0,5)\n",
      "PAAD (0,2,1,6)\n",
      "UCS (5,0,1,0)\n",
      "CHOL (0,0,3,3)\n",
      "LGG (1,2,0,1)\n",
      "PCPG (0,0,3,1)\n",
      "THCA (0,0,2,0)\n"
     ]
    }
   ],
   "source": [
    "for k,v in dict_cancer_counts_4groups.items():\n",
    "    print(k+\" (\"+\",\".join( list(map(str,v)))+\")\")"
   ]
  },
  {
   "cell_type": "code",
   "execution_count": null,
   "metadata": {},
   "outputs": [],
   "source": []
  }
 ],
 "metadata": {
  "kernelspec": {
   "display_name": "Python 3",
   "language": "python",
   "name": "python3"
  },
  "language_info": {
   "codemirror_mode": {
    "name": "ipython",
    "version": 3
   },
   "file_extension": ".py",
   "mimetype": "text/x-python",
   "name": "python",
   "nbconvert_exporter": "python",
   "pygments_lexer": "ipython3",
   "version": "3.7.4"
  },
  "toc": {
   "base_numbering": 1,
   "nav_menu": {},
   "number_sections": true,
   "sideBar": true,
   "skip_h1_title": false,
   "title_cell": "Table of Contents",
   "title_sidebar": "Contents",
   "toc_cell": false,
   "toc_position": {},
   "toc_section_display": true,
   "toc_window_display": true
  }
 },
 "nbformat": 4,
 "nbformat_minor": 2
}
